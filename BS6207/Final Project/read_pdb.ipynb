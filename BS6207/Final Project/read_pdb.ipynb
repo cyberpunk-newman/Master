{
 "cells": [
  {
   "cell_type": "code",
   "execution_count": 8,
   "id": "wound-armenia",
   "metadata": {},
   "outputs": [
    {
     "name": "stdout",
     "output_type": "stream",
     "text": [
      "[35.539, 35.46, 37.468, 32.552, 32.762]\n",
      "[35.844, 37.915, 36.861, 35.15, 34.28]\n",
      "[20.035, 21.52, 18.924, 23.615, 27.112]\n",
      "['h', 'h', 'h', 'h', 'h']\n"
     ]
    }
   ],
   "source": [
    "def read_pdb(filename):\n",
    "\n",
    "    with open(filename, 'r') as file:\n",
    "        strline_L = file.readlines()\n",
    "        # print(strline_L)\n",
    "\n",
    "    X_list = list()\n",
    "    Y_list = list()\n",
    "    Z_list = list()\n",
    "    atomtype_list = list()\n",
    "    for strline in strline_L:\n",
    "        # removes all whitespace at the start and end, including spaces, tabs, newlines and carriage returns\n",
    "        stripped_line = strline.strip()\n",
    "\n",
    "        line_length = len(stripped_line)\n",
    "        # print(\"Line length:{}\".format(line_length))\n",
    "        if line_length < 78:\n",
    "            print(\"ERROR: line length is different. Expected>=78, current={}\".format(line_length))\n",
    "\n",
    "        X_list.append(float(stripped_line[30:38].strip()))\n",
    "        Y_list.append(float(stripped_line[38:46].strip()))\n",
    "        Z_list.append(float(stripped_line[46:54].strip()))\n",
    "\n",
    "        atomtype = stripped_line[76:78].strip()\n",
    "        if atomtype == 'C':\n",
    "            atomtype_list.append('h') # 'h' means hydrophobic\n",
    "        else:\n",
    "            atomtype_list.append('p') # 'p' means polar\n",
    "\n",
    "    return X_list, Y_list, Z_list, atomtype_list\n",
    "\n",
    "\n",
    "X_list, Y_list, Z_list, atomtype_list=read_pdb(\"training_data/0001_lig_cg.pdb\")\n",
    "# X_list, Y_list, Z_list, atomtype_list=read_pdb(\"training_first_100_samples/0001_pro_cg.pdb\")\n",
    "# X_list, Y_list, Z_list, atomtype_list=read_pdb(\"training_first_100_samples/0001_lig_cg.pdb\")\n",
    "print(X_list)\n",
    "print(Y_list)\n",
    "print(Z_list)\n",
    "print(atomtype_list)"
   ]
  },
  {
   "cell_type": "code",
   "execution_count": null,
   "id": "thrown-underwear",
   "metadata": {},
   "outputs": [],
   "source": []
  }
 ],
 "metadata": {
  "kernelspec": {
   "display_name": "Python 3",
   "language": "python",
   "name": "python3"
  },
  "language_info": {
   "codemirror_mode": {
    "name": "ipython",
    "version": 3
   },
   "file_extension": ".py",
   "mimetype": "text/x-python",
   "name": "python",
   "nbconvert_exporter": "python",
   "pygments_lexer": "ipython3",
   "version": "3.8.8"
  }
 },
 "nbformat": 4,
 "nbformat_minor": 5
}
