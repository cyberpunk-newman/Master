{
 "cells": [
  {
   "cell_type": "markdown",
   "id": "genetic-theta",
   "metadata": {},
   "source": [
    "Assignment 3: Create a class\n",
    "Design a class (can be anything, except Person and Ball).\n",
    "In your class, define:\n",
    "- 3 attributes\n",
    "- 3 interesting methods (__init__ is excluded, or anything with double underscores)\n",
    "Create an object of the class, and use your methods defined\n",
    "Extra points for creativity"
   ]
  },
  {
   "cell_type": "code",
   "execution_count": 44,
   "id": "political-ghana",
   "metadata": {},
   "outputs": [],
   "source": [
    " class Animal:\n",
    "    def __init__(self,species,action,active_time):\n",
    "        active =[\"day\",\"night\"]\n",
    "# attributes\n",
    "        self.species = species #\n",
    "        self.action = action\n",
    "        if active_time not in active:\n",
    "            print(\"Active time should only be day or night. Please input again.\")\n",
    "        if active_time in active:\n",
    "            self.active_time = active_time\n",
    "            \n",
    "# methods about animals \n",
    "# ( In sleep method, in case users input the wrong active_time and run Sleeping(),I use try except here to handle the error.)\n",
    "    def Sleeping(self):\n",
    "        try:\n",
    "            if self.active_time == \"day\":\n",
    "                print(self.species+\" starts to rest at night.\")\n",
    "            if self.active_time == \"night\":\n",
    "                print(self.species+\" starts to rest during the day.\")\n",
    "        except:\n",
    "            print(\"No such information.\")\n",
    "            \n",
    "    def Action(self):\n",
    "            print(\"They can \" + self.action +\" well.\")\n",
    "        \n",
    "    def Eat(self):\n",
    "        if self.species == \"bird\":\n",
    "            print(\"They eat worms or insects.\")\n",
    "        elif self.species == \"fish\":\n",
    "            print(\"They eat algae.\")\n",
    "        else:\n",
    "            print(\"They are Omnivorous animal.\")\n",
    "        \n",
    "        "
   ]
  },
  {
   "cell_type": "code",
   "execution_count": 45,
   "id": "daily-render",
   "metadata": {},
   "outputs": [],
   "source": [
    "dog = Animal(\"dog\",\"run\",\"day\")"
   ]
  },
  {
   "cell_type": "code",
   "execution_count": 46,
   "id": "loved-journalist",
   "metadata": {},
   "outputs": [
    {
     "name": "stdout",
     "output_type": "stream",
     "text": [
      "dog starts to rest at night.\n"
     ]
    }
   ],
   "source": [
    "dog.Sleeping()"
   ]
  },
  {
   "cell_type": "code",
   "execution_count": 47,
   "id": "opposed-unemployment",
   "metadata": {},
   "outputs": [
    {
     "name": "stdout",
     "output_type": "stream",
     "text": [
      "They can run well.\n"
     ]
    }
   ],
   "source": [
    "dog.Action()"
   ]
  },
  {
   "cell_type": "code",
   "execution_count": 48,
   "id": "innovative-gravity",
   "metadata": {},
   "outputs": [
    {
     "name": "stdout",
     "output_type": "stream",
     "text": [
      "They are Omnivorous animal.\n"
     ]
    }
   ],
   "source": [
    "dog.Eat()"
   ]
  },
  {
   "cell_type": "code",
   "execution_count": 49,
   "id": "arabic-computer",
   "metadata": {},
   "outputs": [
    {
     "name": "stdout",
     "output_type": "stream",
     "text": [
      "Active time should only be day or night. Please input again.\n"
     ]
    }
   ],
   "source": [
    "fish = Animal(\"fish\",\"swim\",\"all the time\")"
   ]
  },
  {
   "cell_type": "code",
   "execution_count": 50,
   "id": "sized-hayes",
   "metadata": {},
   "outputs": [
    {
     "name": "stdout",
     "output_type": "stream",
     "text": [
      "No such information.\n"
     ]
    }
   ],
   "source": [
    "fish.Sleeping()"
   ]
  },
  {
   "cell_type": "code",
   "execution_count": 51,
   "id": "accepted-labor",
   "metadata": {},
   "outputs": [],
   "source": [
    "fish = Animal(\"fish\",\"swim\",\"night\")"
   ]
  },
  {
   "cell_type": "code",
   "execution_count": 52,
   "id": "satellite-insulin",
   "metadata": {},
   "outputs": [
    {
     "name": "stdout",
     "output_type": "stream",
     "text": [
      "fish starts to rest during the day.\n"
     ]
    }
   ],
   "source": [
    "fish.Sleeping()"
   ]
  },
  {
   "cell_type": "code",
   "execution_count": 53,
   "id": "ceramic-mineral",
   "metadata": {},
   "outputs": [
    {
     "name": "stdout",
     "output_type": "stream",
     "text": [
      "They eat algae.\n"
     ]
    }
   ],
   "source": [
    "fish.Eat()"
   ]
  },
  {
   "cell_type": "code",
   "execution_count": 54,
   "id": "integral-foster",
   "metadata": {},
   "outputs": [
    {
     "name": "stdout",
     "output_type": "stream",
     "text": [
      "They can swim well.\n"
     ]
    }
   ],
   "source": [
    "fish.Action()"
   ]
  },
  {
   "cell_type": "code",
   "execution_count": null,
   "id": "intermediate-horse",
   "metadata": {},
   "outputs": [],
   "source": []
  }
 ],
 "metadata": {
  "kernelspec": {
   "display_name": "Python 3",
   "language": "python",
   "name": "python3"
  },
  "language_info": {
   "codemirror_mode": {
    "name": "ipython",
    "version": 3
   },
   "file_extension": ".py",
   "mimetype": "text/x-python",
   "name": "python",
   "nbconvert_exporter": "python",
   "pygments_lexer": "ipython3",
   "version": "3.8.8"
  }
 },
 "nbformat": 4,
 "nbformat_minor": 5
}
