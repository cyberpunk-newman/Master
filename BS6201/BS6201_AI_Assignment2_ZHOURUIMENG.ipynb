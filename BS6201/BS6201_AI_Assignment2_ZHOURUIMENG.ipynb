{
 "cells": [
  {
   "cell_type": "code",
   "execution_count": 1,
   "id": "characteristic-bahamas",
   "metadata": {},
   "outputs": [
    {
     "name": "stdout",
     "output_type": "stream",
     "text": [
      "Paper Scissors Stone!\n",
      "User1: (paper/scissors/stone) stone\n",
      "User2: (paper/scissors/stone) stone\n",
      "Same! Let's Play again?\n",
      "User1:(Stop/Continue) Continue\n",
      "User2:(Stop/Continue) Continue\n",
      "Paper Scissors Stone!\n",
      "User1: (paper/scissors/stone) paper\n",
      "User2: (paper/scissors/stone) stone\n",
      "User1 wins! Let's Play again?\n",
      "User1:(Stop/Continue) Stop\n",
      "User2:(Stop/Continue) Continue\n",
      "Okay, let us stop this game!\n"
     ]
    }
   ],
   "source": [
    "# Paper Scissor Stone, user1 user2 are two players and u1 u2 are two variables whether they want to play again or not\n",
    "\n",
    "import time\n",
    "\n",
    "while True:\n",
    "    print(\"Paper Scissors Stone!\")\n",
    "    time.sleep(3)    #in case to ask user first than print Paper Scissors Stone!\n",
    "    \n",
    "    user1 = input(\"User1: (paper/scissors/stone) \")\n",
    "    user2 = input(\"User2: (paper/scissors/stone) \")\n",
    "\n",
    "    if(user1==\"stone\" and user2==\"paper\"):\n",
    "        print(\"User2 wins! Let's Play again?\")\n",
    "        u1 = input(\"User1:(Stop/Continue) \")\n",
    "        u2 = input(\"User2:(Stop/Continue) \")\n",
    "        if(u1==\"Stop\" or u2==\"Stop\"):\n",
    "            break\n",
    "    elif(user1==\"stone\" and user2==\"scissors\"):\n",
    "        print(\"User1 wins! Let's Play again?\")\n",
    "        u1 = input(\"User1:(Stop/Continue) \")\n",
    "        u2 = input(\"User2:(Stop/Continue) \")\n",
    "        if(u1==\"Stop\" or u2==\"Stop\"):\n",
    "            break\n",
    "    elif(user1==\"paper\" and user2==\"scissors\"):\n",
    "        print(\"User2 wins! Let's Play again?\")\n",
    "        u1 = input(\"User1:(Stop/Continue) \")\n",
    "        u2 = input(\"User2:(Stop/Continue) \")\n",
    "        if(u1==\"Stop\" or u2==\"Stop\"):\n",
    "            break\n",
    "    elif(user1==\"paper\" and user2==\"stone\"):\n",
    "        print(\"User1 wins! Let's Play again?\")\n",
    "        u1 = input(\"User1:(Stop/Continue) \")\n",
    "        u2 = input(\"User2:(Stop/Continue) \")\n",
    "        if(u1==\"Stop\" or u2==\"Stop\"):\n",
    "            break\n",
    "    elif(user1==\"scissors\" and user2==\"stone\"):\n",
    "        print(\"User2 wins! Let's Play again?\")\n",
    "        u1 = input(\"User1:(Stop/Continue) \")\n",
    "        u2 = input(\"User2:(Stop/Continue) \")\n",
    "        if(u1==\"Stop\" or u2==\"Stop\"):\n",
    "            break  \n",
    "    elif(user1==\"scissors\" and user2==\"paper\"):\n",
    "        print(\"User1 wins! Let's Play again?\")\n",
    "        u1 = input(\"User1:(Stop/Continue) \")\n",
    "        u2 = input(\"User2:(Stop/Continue) \")\n",
    "        if(u1==\"Stop\" or u2==\"Stop\"):\n",
    "            break\n",
    "    else:\n",
    "        print(\"Same! Let's Play again?\")\n",
    "        u1 = input(\"User1:(Stop/Continue) \")\n",
    "        u2 = input(\"User2:(Stop/Continue) \")\n",
    "        if(u1==\"Stop\" or u2==\"Stop\"):\n",
    "            break\n",
    "            \n",
    "print(\"Okay, let us stop this game!\")"
   ]
  },
  {
   "cell_type": "code",
   "execution_count": null,
   "id": "checked-bracelet",
   "metadata": {},
   "outputs": [],
   "source": []
  },
  {
   "cell_type": "code",
   "execution_count": null,
   "id": "romance-donor",
   "metadata": {},
   "outputs": [],
   "source": []
  },
  {
   "cell_type": "code",
   "execution_count": null,
   "id": "olympic-postage",
   "metadata": {},
   "outputs": [],
   "source": []
  },
  {
   "cell_type": "code",
   "execution_count": null,
   "id": "lightweight-peoples",
   "metadata": {},
   "outputs": [],
   "source": []
  },
  {
   "cell_type": "code",
   "execution_count": null,
   "id": "moving-neighborhood",
   "metadata": {},
   "outputs": [],
   "source": []
  },
  {
   "cell_type": "code",
   "execution_count": null,
   "id": "sharing-telephone",
   "metadata": {},
   "outputs": [],
   "source": []
  },
  {
   "cell_type": "code",
   "execution_count": null,
   "id": "periodic-texas",
   "metadata": {},
   "outputs": [],
   "source": []
  },
  {
   "cell_type": "code",
   "execution_count": null,
   "id": "supposed-possession",
   "metadata": {},
   "outputs": [],
   "source": []
  },
  {
   "cell_type": "code",
   "execution_count": null,
   "id": "considered-slope",
   "metadata": {},
   "outputs": [],
   "source": []
  },
  {
   "cell_type": "code",
   "execution_count": null,
   "id": "institutional-cuisine",
   "metadata": {},
   "outputs": [],
   "source": []
  },
  {
   "cell_type": "code",
   "execution_count": null,
   "id": "connected-holder",
   "metadata": {},
   "outputs": [],
   "source": []
  },
  {
   "cell_type": "code",
   "execution_count": null,
   "id": "static-klein",
   "metadata": {},
   "outputs": [],
   "source": []
  }
 ],
 "metadata": {
  "kernelspec": {
   "display_name": "Python 3",
   "language": "python",
   "name": "python3"
  },
  "language_info": {
   "codemirror_mode": {
    "name": "ipython",
    "version": 3
   },
   "file_extension": ".py",
   "mimetype": "text/x-python",
   "name": "python",
   "nbconvert_exporter": "python",
   "pygments_lexer": "ipython3",
   "version": "3.8.8"
  }
 },
 "nbformat": 4,
 "nbformat_minor": 5
}
