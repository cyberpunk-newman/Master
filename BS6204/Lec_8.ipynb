{
  "nbformat": 4,
  "nbformat_minor": 0,
  "metadata": {
    "colab": {
      "name": "Lec_8.ipynb",
      "provenance": [],
      "collapsed_sections": [],
      "mount_file_id": "1YibDUr5ThlXNt5vEstXv82oemHaDcNQb",
      "authorship_tag": "ABX9TyN3A5PYx4Ko6hbHbMd4VY1I",
      "include_colab_link": true
    },
    "kernelspec": {
      "name": "python3",
      "display_name": "Python 3"
    },
    "language_info": {
      "name": "python"
    },
    "accelerator": "GPU"
  },
  "cells": [
    {
      "cell_type": "markdown",
      "metadata": {
        "id": "view-in-github",
        "colab_type": "text"
      },
      "source": [
        "<a href=\"https://colab.research.google.com/github/cyberpunk-newman/Master/blob/main/BS6204/Lec_8.ipynb\" target=\"_parent\"><img src=\"https://colab.research.google.com/assets/colab-badge.svg\" alt=\"Open In Colab\"/></a>"
      ]
    },
    {
      "cell_type": "code",
      "metadata": {
        "colab": {
          "base_uri": "https://localhost:8080/"
        },
        "id": "2VtPign9XVZH",
        "outputId": "0a6847d3-b98a-4393-f068-ce35f1b0fefb"
      },
      "source": [
        "!pip install split-folders"
      ],
      "execution_count": null,
      "outputs": [
        {
          "output_type": "stream",
          "name": "stdout",
          "text": [
            "Collecting split-folders\n",
            "  Downloading split_folders-0.4.3-py3-none-any.whl (7.4 kB)\n",
            "Installing collected packages: split-folders\n",
            "Successfully installed split-folders-0.4.3\n"
          ]
        }
      ]
    },
    {
      "cell_type": "code",
      "metadata": {
        "id": "vbKjE0VkYViU"
      },
      "source": [
        "import splitfolders"
      ],
      "execution_count": null,
      "outputs": []
    },
    {
      "cell_type": "code",
      "metadata": {
        "id": "dBTMM92lYVld",
        "colab": {
          "base_uri": "https://localhost:8080/"
        },
        "outputId": "09c7ac60-e5a6-4755-b790-719d7c8ccabf"
      },
      "source": [
        "splitfolders.ratio(input='/content/drive/MyDrive/banana_data/',\n",
        "          output='/content/drive/MyDrive/output',\n",
        "          seed=2021,\n",
        "          ratio=(0.7,0.15,0.15))"
      ],
      "execution_count": null,
      "outputs": [
        {
          "output_type": "stream",
          "name": "stderr",
          "text": [
            "Copying files: 450 files [03:13,  2.33 files/s]\n"
          ]
        }
      ]
    },
    {
      "cell_type": "code",
      "metadata": {
        "id": "WpND6xevYVpS"
      },
      "source": [
        "#import libraries\n",
        "import keras\n",
        "from keras.layers import Dense,GlobalAveragePooling2D,Dropout\n",
        "from keras.applications import mobilenet_v2,resnet,vgg16\n",
        "from keras.preprocessing.image import ImageDataGenerator\n",
        "from keras.models import Model\n",
        "from tensorflow.keras.optimizers import Adam\n",
        "\n",
        "import matplotlib.pyplot as plt\n",
        "from sklearn.metrics import confusion_matrix\n",
        "import numpy as np\n"
      ],
      "execution_count": null,
      "outputs": []
    },
    {
      "cell_type": "code",
      "metadata": {
        "id": "I96HsFGxYVrj",
        "colab": {
          "base_uri": "https://localhost:8080/"
        },
        "outputId": "65c93296-500b-4892-8ff7-727ef06967ce"
      },
      "source": [
        "base_model = mobilenet_v2.MobileNetV2(weights='imagenet',include_top=False) #vgg16.VGG16, resnet.RESNET\n",
        "\n",
        "#get base models layer\n",
        "x=base_model.output\n",
        "\n",
        "# add our layers\n",
        "x=GlobalAveragePooling2D()(x)\n",
        "x=Dense(512,activation='relu')(x)\n",
        "x=Dropout(0.5)(x)\n",
        "x=Dense(512,activation='relu')(x)\n",
        "x=Dropout(0.5)(x)\n",
        "\n",
        "preds=Dense(3,activation='softmax')(x)"
      ],
      "execution_count": null,
      "outputs": [
        {
          "output_type": "stream",
          "name": "stdout",
          "text": [
            "WARNING:tensorflow:`input_shape` is undefined or non-square, or `rows` is not in [96, 128, 160, 192, 224]. Weights for input shape (224, 224) will be loaded as the default.\n",
            "Downloading data from https://storage.googleapis.com/tensorflow/keras-applications/mobilenet_v2/mobilenet_v2_weights_tf_dim_ordering_tf_kernels_1.0_224_no_top.h5\n",
            "9412608/9406464 [==============================] - 0s 0us/step\n",
            "9420800/9406464 [==============================] - 0s 0us/step\n"
          ]
        }
      ]
    },
    {
      "cell_type": "code",
      "metadata": {
        "id": "Ar97uRMGch9f"
      },
      "source": [
        "BATCH_SIZE=8"
      ],
      "execution_count": null,
      "outputs": []
    },
    {
      "cell_type": "code",
      "metadata": {
        "id": "6hmV4LV3ctQw"
      },
      "source": [
        "# declare generators to introduce augment into traiing process\n",
        "train_datagen=ImageDataGenerator(rescale=1./255,\n",
        "                shear_range=0.2,\n",
        "                zoom_range=0.2,\n",
        "                horizontal_flip=True)\n",
        "\n",
        "test_datagen = ImageDataGenerator(rescale=1./255) # no augmentation necessary"
      ],
      "execution_count": null,
      "outputs": []
    },
    {
      "cell_type": "code",
      "metadata": {
        "colab": {
          "base_uri": "https://localhost:8080/"
        },
        "id": "dnEtHpABeGJP",
        "outputId": "be885e21-4cd6-425b-b639-81385ecfd969"
      },
      "source": [
        "train_generator=train_datagen.flow_from_directory('/content/drive/MyDrive/output/train',\n",
        "                        target_size=(224,224),\n",
        "                        color_mode='rgb',\n",
        "                        batch_size=BATCH_SIZE,\n",
        "                        class_mode='categorical',\n",
        "                        shuffle=True)"
      ],
      "execution_count": null,
      "outputs": [
        {
          "output_type": "stream",
          "name": "stdout",
          "text": [
            "Found 315 images belonging to 3 classes.\n"
          ]
        }
      ]
    },
    {
      "cell_type": "code",
      "metadata": {
        "colab": {
          "base_uri": "https://localhost:8080/"
        },
        "id": "rcDUSTWEenhM",
        "outputId": "d9ed9b3a-af39-4dd0-c4b1-68cfe0804ac3"
      },
      "source": [
        "val_generator=train_datagen.flow_from_directory('/content/drive/MyDrive/output/val',\n",
        "                        target_size=(224,224),\n",
        "                        color_mode='rgb',\n",
        "                        batch_size=BATCH_SIZE,\n",
        "                        class_mode='categorical',\n",
        "                        shuffle=True)"
      ],
      "execution_count": null,
      "outputs": [
        {
          "output_type": "stream",
          "name": "stdout",
          "text": [
            "Found 66 images belonging to 3 classes.\n"
          ]
        }
      ]
    },
    {
      "cell_type": "code",
      "metadata": {
        "colab": {
          "base_uri": "https://localhost:8080/"
        },
        "id": "uU8Bh93_eviw",
        "outputId": "f5102e83-f853-4a34-c77d-5940795c799b"
      },
      "source": [
        "test_generator=test_datagen.flow_from_directory('/content/drive/MyDrive/output/test',\n",
        "                        shuffle=False)"
      ],
      "execution_count": null,
      "outputs": [
        {
          "output_type": "stream",
          "name": "stdout",
          "text": [
            "Found 68 images belonging to 3 classes.\n"
          ]
        }
      ]
    },
    {
      "cell_type": "code",
      "metadata": {
        "id": "nvD8z201e78a"
      },
      "source": [
        "model=Model(inputs=base_model.input,outputs=preds)\n",
        "\n",
        "model.compile(optimizer=Adam(learning_rate=0.0001),\n",
        "              loss='categorical_crossentropy',\n",
        "              metrics=['accuracy'])"
      ],
      "execution_count": null,
      "outputs": []
    },
    {
      "cell_type": "code",
      "metadata": {
        "colab": {
          "base_uri": "https://localhost:8080/"
        },
        "id": "n-35kGG_fZGV",
        "outputId": "06807e65-84a3-4c1e-a3da-f5823c1f0e8e"
      },
      "source": [
        "history=model.fit(train_generator,\n",
        "         steps_per_epoch=train_generator.samples//BATCH_SIZE,\n",
        "         validation_data=val_generator,\n",
        "          validation_steps=val_generator.samples//BATCH_SIZE,\n",
        "          epochs=20)"
      ],
      "execution_count": null,
      "outputs": [
        {
          "output_type": "stream",
          "name": "stdout",
          "text": [
            "Epoch 1/20\n",
            "39/39 [==============================] - 20s 358ms/step - loss: 1.0467 - accuracy: 0.5342 - val_loss: 0.7483 - val_accuracy: 0.6406\n",
            "Epoch 2/20\n",
            "39/39 [==============================] - 13s 323ms/step - loss: 0.5014 - accuracy: 0.8013 - val_loss: 0.7858 - val_accuracy: 0.6250\n",
            "Epoch 3/20\n",
            "39/39 [==============================] - 13s 322ms/step - loss: 0.3436 - accuracy: 0.8795 - val_loss: 0.7472 - val_accuracy: 0.6562\n",
            "Epoch 4/20\n",
            "39/39 [==============================] - 13s 321ms/step - loss: 0.2743 - accuracy: 0.9023 - val_loss: 1.0693 - val_accuracy: 0.6406\n",
            "Epoch 5/20\n",
            "39/39 [==============================] - 13s 321ms/step - loss: 0.2453 - accuracy: 0.9153 - val_loss: 0.7775 - val_accuracy: 0.7344\n",
            "Epoch 6/20\n",
            "39/39 [==============================] - 12s 304ms/step - loss: 0.1834 - accuracy: 0.9186 - val_loss: 1.0375 - val_accuracy: 0.6719\n",
            "Epoch 7/20\n",
            "39/39 [==============================] - 12s 310ms/step - loss: 0.2378 - accuracy: 0.9186 - val_loss: 0.3893 - val_accuracy: 0.8594\n",
            "Epoch 8/20\n",
            "39/39 [==============================] - 12s 308ms/step - loss: 0.1344 - accuracy: 0.9511 - val_loss: 0.3847 - val_accuracy: 0.8906\n",
            "Epoch 9/20\n",
            "39/39 [==============================] - 12s 315ms/step - loss: 0.1336 - accuracy: 0.9577 - val_loss: 0.4437 - val_accuracy: 0.8594\n",
            "Epoch 10/20\n",
            "39/39 [==============================] - 12s 313ms/step - loss: 0.1110 - accuracy: 0.9511 - val_loss: 0.3377 - val_accuracy: 0.9062\n",
            "Epoch 11/20\n",
            "39/39 [==============================] - 12s 312ms/step - loss: 0.1818 - accuracy: 0.9414 - val_loss: 0.3154 - val_accuracy: 0.9062\n",
            "Epoch 12/20\n",
            "39/39 [==============================] - 12s 308ms/step - loss: 0.1298 - accuracy: 0.9577 - val_loss: 0.4873 - val_accuracy: 0.8438\n",
            "Epoch 13/20\n",
            "39/39 [==============================] - 12s 311ms/step - loss: 0.1677 - accuracy: 0.9479 - val_loss: 0.3807 - val_accuracy: 0.9062\n",
            "Epoch 14/20\n",
            "39/39 [==============================] - 12s 311ms/step - loss: 0.1361 - accuracy: 0.9511 - val_loss: 0.4264 - val_accuracy: 0.9219\n",
            "Epoch 15/20\n",
            "39/39 [==============================] - 12s 315ms/step - loss: 0.1069 - accuracy: 0.9544 - val_loss: 0.5841 - val_accuracy: 0.8438\n",
            "Epoch 16/20\n",
            "39/39 [==============================] - 12s 305ms/step - loss: 0.1355 - accuracy: 0.9479 - val_loss: 0.9839 - val_accuracy: 0.7344\n",
            "Epoch 17/20\n",
            "39/39 [==============================] - 12s 316ms/step - loss: 0.0948 - accuracy: 0.9544 - val_loss: 0.5538 - val_accuracy: 0.8594\n",
            "Epoch 18/20\n",
            "39/39 [==============================] - 12s 319ms/step - loss: 0.1996 - accuracy: 0.9349 - val_loss: 0.7390 - val_accuracy: 0.7812\n",
            "Epoch 19/20\n",
            "39/39 [==============================] - 12s 319ms/step - loss: 0.0778 - accuracy: 0.9642 - val_loss: 0.5790 - val_accuracy: 0.8906\n",
            "Epoch 20/20\n",
            "39/39 [==============================] - 12s 319ms/step - loss: 0.0420 - accuracy: 0.9902 - val_loss: 0.4256 - val_accuracy: 0.9062\n"
          ]
        }
      ]
    },
    {
      "cell_type": "code",
      "metadata": {
        "colab": {
          "base_uri": "https://localhost:8080/",
          "height": 282
        },
        "id": "HPkL2w5KgNlQ",
        "outputId": "5d8360dd-6fdb-4e91-ac2f-b5f54ec58ead"
      },
      "source": [
        "plt.plot(history.history['loss'])\n",
        "plt.plot(history.history['val_loss'])"
      ],
      "execution_count": null,
      "outputs": [
        {
          "output_type": "execute_result",
          "data": {
            "text/plain": [
              "[<matplotlib.lines.Line2D at 0x7f6f71044510>]"
            ]
          },
          "metadata": {},
          "execution_count": 39
        },
        {
          "output_type": "display_data",
          "data": {
            "image/png": "[encoded data removed]",
            "text/plain": [
              "<Figure size 432x288 with 1 Axes>"
            ]
          },
          "metadata": {
            "needs_background": "light"
          }
        }
      ]
    },
    {
      "cell_type": "code",
      "metadata": {
        "colab": {
          "base_uri": "https://localhost:8080/"
        },
        "id": "DiitYWZkjfX0",
        "outputId": "30806899-7028-4386-e36b-ba2ce8be983e"
      },
      "source": [
        "test_generator.classes # aplhabetical order:'green','overeripe','ripe'"
      ],
      "execution_count": null,
      "outputs": [
        {
          "output_type": "execute_result",
          "data": {
            "text/plain": [
              "array([0, 0, 0, 0, 0, 0, 0, 0, 0, 0, 0, 0, 0, 0, 0, 0, 0, 0, 0, 0, 0, 0,\n",
              "       1, 1, 1, 1, 1, 1, 1, 1, 1, 1, 1, 1, 1, 1, 1, 1, 1, 1, 1, 1, 1, 1,\n",
              "       1, 2, 2, 2, 2, 2, 2, 2, 2, 2, 2, 2, 2, 2, 2, 2, 2, 2, 2, 2, 2, 2,\n",
              "       2, 2], dtype=int32)"
            ]
          },
          "metadata": {},
          "execution_count": 20
        }
      ]
    },
    {
      "cell_type": "code",
      "metadata": {
        "colab": {
          "base_uri": "https://localhost:8080/"
        },
        "id": "QEkeui-UjwSK",
        "outputId": "eb99bad4-8afb-4fc6-b290-edb9800b07fa"
      },
      "source": [
        "predictions=model.predict(test_generator)\n",
        "predictions"
      ],
      "execution_count": null,
      "outputs": [
        {
          "output_type": "execute_result",
          "data": {
            "text/plain": [
              "array([[9.99981523e-01, 8.25467453e-07, 1.75964997e-05],\n",
              "       [9.99987364e-01, 5.23092808e-07, 1.21448347e-05],\n",
              "       [9.83017325e-01, 2.65891594e-03, 1.43236751e-02],\n",
              "       [9.92492974e-01, 1.72005361e-03, 5.78700937e-03],\n",
              "       [9.94330525e-01, 1.20804075e-03, 4.46138950e-03],\n",
              "       [9.99670148e-01, 3.42755848e-05, 2.95579550e-04],\n",
              "       [9.72932339e-01, 1.00322692e-02, 1.70354471e-02],\n",
              "       [9.99988079e-01, 4.65850320e-07, 1.14526401e-05],\n",
              "       [1.00000000e+00, 4.05221662e-10, 4.79395545e-08],\n",
              "       [9.99999762e-01, 3.70572995e-09, 2.62873129e-07],\n",
              "       [9.99900818e-01, 6.68503662e-06, 9.25139757e-05],\n",
              "       [9.99921560e-01, 5.30033958e-06, 7.32457993e-05],\n",
              "       [9.99896646e-01, 7.24923802e-06, 9.61151090e-05],\n",
              "       [9.99963403e-01, 2.32392676e-06, 3.43480497e-05],\n",
              "       [9.99962568e-01, 2.58064074e-06, 3.47709029e-05],\n",
              "       [9.99997258e-01, 7.22301792e-08, 2.67993369e-06],\n",
              "       [7.20033526e-01, 1.34013519e-01, 1.45952970e-01],\n",
              "       [9.99482989e-01, 6.59707512e-05, 4.51008003e-04],\n",
              "       [9.99971747e-01, 1.61644550e-06, 2.66012285e-05],\n",
              "       [9.87243593e-01, 2.69204052e-03, 1.00643961e-02],\n",
              "       [9.99794781e-01, 1.66770278e-05, 1.88591366e-04],\n",
              "       [9.99904156e-01, 6.47922661e-06, 8.93438992e-05],\n",
              "       [2.55145761e-03, 9.77867603e-01, 1.95808429e-02],\n",
              "       [1.25008672e-02, 8.78201485e-01, 1.09297596e-01],\n",
              "       [2.26708408e-03, 9.79853928e-01, 1.78788826e-02],\n",
              "       [2.60255206e-03, 9.77455378e-01, 1.99421700e-02],\n",
              "       [1.27477031e-02, 9.29712296e-01, 5.75400330e-02],\n",
              "       [2.71155103e-03, 1.09722205e-02, 9.86316264e-01],\n",
              "       [2.00355519e-02, 9.15785313e-01, 6.41791746e-02],\n",
              "       [3.88323632e-03, 9.67497110e-01, 2.86196843e-02],\n",
              "       [2.26009777e-03, 9.79952872e-01, 1.77870095e-02],\n",
              "       [2.76467223e-02, 2.11784750e-01, 7.60568500e-01],\n",
              "       [2.08770949e-02, 1.64607391e-01, 8.14515531e-01],\n",
              "       [4.58448790e-02, 8.70357990e-01, 8.37971494e-02],\n",
              "       [5.13165025e-03, 9.63270128e-01, 3.15981768e-02],\n",
              "       [2.14153379e-02, 8.91640127e-01, 8.69445577e-02],\n",
              "       [1.37554526e-01, 7.08557546e-01, 1.53887913e-01],\n",
              "       [3.16999317e-03, 9.75268960e-01, 2.15611048e-02],\n",
              "       [1.63238160e-02, 9.10475910e-01, 7.32003376e-02],\n",
              "       [2.59832051e-02, 6.58545732e-01, 3.15471053e-01],\n",
              "       [5.43312961e-03, 9.41069722e-01, 5.34972362e-02],\n",
              "       [5.08644059e-03, 9.57418501e-01, 3.74950767e-02],\n",
              "       [3.81333977e-02, 3.03385049e-01, 6.58481538e-01],\n",
              "       [2.34707855e-02, 9.14494932e-01, 6.20342977e-02],\n",
              "       [4.06743214e-03, 9.64865565e-01, 3.10669523e-02],\n",
              "       [1.36812771e-04, 1.31650933e-03, 9.98546660e-01],\n",
              "       [1.01290716e-05, 1.59313844e-04, 9.99830484e-01],\n",
              "       [5.39193349e-03, 5.36980629e-02, 9.40910041e-01],\n",
              "       [3.41390745e-07, 1.43190937e-05, 9.99985337e-01],\n",
              "       [2.25780491e-06, 4.61242998e-05, 9.99951601e-01],\n",
              "       [3.16486210e-02, 6.14650726e-01, 3.53700697e-01],\n",
              "       [4.28774627e-03, 3.29095833e-02, 9.62802649e-01],\n",
              "       [9.97677028e-01, 3.17796977e-04, 2.00516079e-03],\n",
              "       [7.57874012e-01, 4.29091416e-02, 1.99216858e-01],\n",
              "       [6.87509669e-07, 1.89595285e-05, 9.99980330e-01],\n",
              "       [9.51712900e-06, 1.69048348e-04, 9.99821484e-01],\n",
              "       [9.57101816e-04, 1.33559955e-02, 9.85686958e-01],\n",
              "       [1.22928421e-03, 1.30988210e-02, 9.85671878e-01],\n",
              "       [7.06292496e-07, 1.91084473e-05, 9.99980211e-01],\n",
              "       [1.94114689e-02, 7.63474286e-01, 2.17114195e-01],\n",
              "       [8.57282721e-05, 7.86168559e-04, 9.99128163e-01],\n",
              "       [1.60309344e-06, 3.55332450e-05, 9.99962807e-01],\n",
              "       [1.34017943e-08, 9.74671366e-07, 9.99999046e-01],\n",
              "       [1.54812311e-04, 2.70947628e-03, 9.97135758e-01],\n",
              "       [4.07218467e-03, 7.47666229e-03, 9.88451123e-01],\n",
              "       [9.29102600e-01, 2.30451021e-02, 4.78522852e-02],\n",
              "       [1.81101768e-05, 4.31709486e-04, 9.99550164e-01],\n",
              "       [2.03952986e-05, 2.70407880e-04, 9.99709189e-01]], dtype=float32)"
            ]
          },
          "metadata": {},
          "execution_count": 21
        }
      ]
    },
    {
      "cell_type": "code",
      "metadata": {
        "colab": {
          "base_uri": "https://localhost:8080/"
        },
        "id": "0HwksnUGkQi0",
        "outputId": "d20ac5bf-4ed8-45bc-c29e-febb2f013e1f"
      },
      "source": [
        "single_pred = np.argmax(predictions,axis=1)\n",
        "single_pred"
      ],
      "execution_count": null,
      "outputs": [
        {
          "output_type": "execute_result",
          "data": {
            "text/plain": [
              "array([0, 0, 0, 0, 0, 0, 0, 0, 0, 0, 0, 0, 0, 0, 0, 0, 0, 0, 0, 0, 0, 0,\n",
              "       1, 1, 1, 1, 1, 2, 1, 1, 1, 2, 2, 1, 1, 1, 1, 1, 1, 1, 1, 1, 2, 1,\n",
              "       1, 2, 2, 2, 2, 2, 1, 2, 0, 0, 2, 2, 2, 2, 2, 1, 2, 2, 2, 2, 2, 0,\n",
              "       2, 2])"
            ]
          },
          "metadata": {},
          "execution_count": 22
        }
      ]
    },
    {
      "cell_type": "code",
      "metadata": {
        "colab": {
          "base_uri": "https://localhost:8080/"
        },
        "id": "1vl72r0akk42",
        "outputId": "538700e5-240a-42cd-d060-eecf2e9a62b8"
      },
      "source": [
        "confusion_matrix(test_generator.classes,single_pred)"
      ],
      "execution_count": null,
      "outputs": [
        {
          "output_type": "execute_result",
          "data": {
            "text/plain": [
              "array([[22,  0,  0],\n",
              "       [ 0, 19,  4],\n",
              "       [ 3,  2, 18]])"
            ]
          },
          "metadata": {},
          "execution_count": 23
        }
      ]
    },
    {
      "cell_type": "code",
      "metadata": {
        "id": "a2m-jpFOkrGJ"
      },
      "source": [
        ""
      ],
      "execution_count": null,
      "outputs": []
    }
  ]
}