{
  "nbformat": 4,
  "nbformat_minor": 0,
  "metadata": {
    "colab": {
      "name": "BS6204_Lecture5.ipynb",
      "provenance": [],
      "collapsed_sections": [],
      "authorship_tag": "ABX9TyMeGKjYy3q/YRfgDR4jx6nU",
      "include_colab_link": true
    },
    "kernelspec": {
      "name": "python3",
      "display_name": "Python 3"
    },
    "language_info": {
      "name": "python"
    },
    "accelerator": "GPU"
  },
  "cells": [
    {
      "cell_type": "markdown",
      "metadata": {
        "id": "view-in-github",
        "colab_type": "text"
      },
      "source": [
        "<a href=\"https://colab.research.google.com/github/cyberpunk-newman/Master/blob/main/BS6204/Lecture5.ipynb\" target=\"_parent\"><img src=\"https://colab.research.google.com/assets/colab-badge.svg\" alt=\"Open In Colab\"/></a>"
      ]
    },
    {
      "cell_type": "code",
      "metadata": {
        "id": "ltAmVxcIO_V9"
      },
      "source": [
        ""
      ],
      "execution_count": null,
      "outputs": []
    },
    {
      "cell_type": "code",
      "metadata": {
        "id": "VSNEn9aqN71h"
      },
      "source": [
        "\n",
        "import numpy as np\n",
        "from tensorflow import keras\n",
        "from tensorflow.keras import layers\n",
        "import matplotlib.pyplot as plt\n"
      ],
      "execution_count": null,
      "outputs": []
    },
    {
      "cell_type": "code",
      "metadata": {
        "colab": {
          "base_uri": "https://localhost:8080/"
        },
        "id": "1X_sK2AoPBW9",
        "outputId": "03b5a7c6-1822-4c7b-b432-9d469f3ecc33"
      },
      "source": [
        "# load MNIST dataset\n",
        "data = keras.datasets.mnist.load_data()"
      ],
      "execution_count": null,
      "outputs": [
        {
          "output_type": "stream",
          "text": [
            "Downloading data from https://storage.googleapis.com/tensorflow/tf-keras-datasets/mnist.npz\n",
            "11493376/11490434 [==============================] - 0s 0us/step\n",
            "11501568/11490434 [==============================] - 0s 0us/step\n"
          ],
          "name": "stdout"
        }
      ]
    },
    {
      "cell_type": "code",
      "metadata": {
        "colab": {
          "base_uri": "https://localhost:8080/"
        },
        "id": "M3ORVZUgPMN0",
        "outputId": "89e30571-8bd2-468a-9e59-7710b9bea420"
      },
      "source": [
        "# data ->(train,test)\n",
        "# train -> (X,y) X is image, y is label\n",
        "# test ->(X,y)\n"
      ],
      "execution_count": null,
      "outputs": [
        {
          "output_type": "execute_result",
          "data": {
            "text/plain": [
              "60000"
            ]
          },
          "metadata": {},
          "execution_count": 7
        }
      ]
    },
    {
      "cell_type": "code",
      "metadata": {
        "id": "weBIXQ4MPVN9"
      },
      "source": [
        "# get the first image from x\n",
        "first_image = data[0][0][0]"
      ],
      "execution_count": null,
      "outputs": []
    },
    {
      "cell_type": "code",
      "metadata": {
        "colab": {
          "base_uri": "https://localhost:8080/",
          "height": 282
        },
        "id": "Wq5bQsE9QGtO",
        "outputId": "846f6f46-89c7-4e73-dcd5-0cb28e456be7"
      },
      "source": [
        "plt.imshow(first_image,cmap = 'gray')"
      ],
      "execution_count": null,
      "outputs": [
        {
          "output_type": "execute_result",
          "data": {
            "text/plain": [
              "<matplotlib.image.AxesImage at 0x7f7686ee58d0>"
            ]
          },
          "metadata": {},
          "execution_count": 19
        },
        {
          "output_type": "display_data",
          "data": {
            "image/png": "[encoded data removed]",
            "text/plain": [
              "<Figure size 432x288 with 1 Axes>"
            ]
          },
          "metadata": {
            "needs_background": "light"
          }
        }
      ]
    },
    {
      "cell_type": "code",
      "metadata": {
        "colab": {
          "base_uri": "https://localhost:8080/"
        },
        "id": "PJ2EwPYlQHGw",
        "outputId": "9958eb15-9821-4026-f5c6-253874f98105"
      },
      "source": [
        "first_image.shape"
      ],
      "execution_count": null,
      "outputs": [
        {
          "output_type": "execute_result",
          "data": {
            "text/plain": [
              "(28, 28)"
            ]
          },
          "metadata": {},
          "execution_count": 18
        }
      ]
    },
    {
      "cell_type": "code",
      "metadata": {
        "id": "2tfrSwxRQHPk"
      },
      "source": [
        "# RGB - 3 channels\n",
        "num_classes = 10\n",
        "input_shape = (28,28,1)"
      ],
      "execution_count": null,
      "outputs": []
    },
    {
      "cell_type": "code",
      "metadata": {
        "id": "VeP4aByQQ9Te"
      },
      "source": [
        "# split the date into train and test\n",
        "(X_train,y_train),(X_test,y_test) = data"
      ],
      "execution_count": null,
      "outputs": []
    },
    {
      "cell_type": "code",
      "metadata": {
        "colab": {
          "base_uri": "https://localhost:8080/"
        },
        "id": "xP6UgSX_RNQ1",
        "outputId": "cf19cd0d-2215-46ca-8083-32e1f21c75df"
      },
      "source": [
        "# data=((60000,28,28),(60000,)),((10000,28,28),(10000,))\n",
        "X_train.shape"
      ],
      "execution_count": null,
      "outputs": [
        {
          "output_type": "execute_result",
          "data": {
            "text/plain": [
              "(60000, 28, 28)"
            ]
          },
          "metadata": {},
          "execution_count": 25
        }
      ]
    },
    {
      "cell_type": "code",
      "metadata": {
        "id": "8u-qQuEARaGZ"
      },
      "source": [
        "# prepare our image\n",
        "# image data should ideally be between 0-1\n",
        "# normalize the image first before training\n",
        "X_train = X_train.astype('float32') / 255\n",
        "X_test = X_test.astype('float32') / 255"
      ],
      "execution_count": null,
      "outputs": []
    },
    {
      "cell_type": "code",
      "metadata": {
        "id": "36RSTLP5RqAc"
      },
      "source": [
        "# reshape array\n",
        "# our input is (28,28,1)\n",
        "# (60000,28,28) -> (60000,28,28,1) add a channel information\n",
        "X_train = np.expand_dims(X_train,-1)\n",
        "X_test = np.expand_dims(X_test,-1)"
      ],
      "execution_count": null,
      "outputs": []
    },
    {
      "cell_type": "code",
      "metadata": {
        "colab": {
          "base_uri": "https://localhost:8080/"
        },
        "id": "jque0KqrS1sv",
        "outputId": "15f48401-70e2-487c-a150-86834526411f"
      },
      "source": [
        "X_train.shape"
      ],
      "execution_count": null,
      "outputs": [
        {
          "output_type": "execute_result",
          "data": {
            "text/plain": [
              "(60000, 28, 28, 1)"
            ]
          },
          "metadata": {},
          "execution_count": 30
        }
      ]
    },
    {
      "cell_type": "code",
      "metadata": {
        "colab": {
          "base_uri": "https://localhost:8080/"
        },
        "id": "hkbxUfQmS90O",
        "outputId": "86a1febc-dcd3-40c7-8260-7a1a94e96806"
      },
      "source": [
        "# [5,0,4,...,5,6,8] -> [[0,0,0,0,0,0,1,0,0,0...]]\n",
        "\n",
        "y_train = keras.utils.to_categorical(y_train,num_classes)\n",
        "y_train"
      ],
      "execution_count": null,
      "outputs": [
        {
          "output_type": "execute_result",
          "data": {
            "text/plain": [
              "array([[0., 0., 0., ..., 0., 0., 0.],\n",
              "       [1., 0., 0., ..., 0., 0., 0.],\n",
              "       [0., 0., 0., ..., 0., 0., 0.],\n",
              "       ...,\n",
              "       [0., 0., 0., ..., 0., 0., 0.],\n",
              "       [0., 0., 0., ..., 0., 0., 0.],\n",
              "       [0., 0., 0., ..., 0., 1., 0.]], dtype=float32)"
            ]
          },
          "metadata": {},
          "execution_count": 33
        }
      ]
    },
    {
      "cell_type": "code",
      "metadata": {
        "colab": {
          "base_uri": "https://localhost:8080/"
        },
        "id": "VdhDC397Tree",
        "outputId": "8577e68f-b819-459f-d42d-117f4c9fc146"
      },
      "source": [
        "y_test = keras.utils.to_categorical(y_test,num_classes)\n",
        "y_test"
      ],
      "execution_count": null,
      "outputs": [
        {
          "output_type": "execute_result",
          "data": {
            "text/plain": [
              "array([[0., 0., 0., ..., 1., 0., 0.],\n",
              "       [0., 0., 1., ..., 0., 0., 0.],\n",
              "       [0., 1., 0., ..., 0., 0., 0.],\n",
              "       ...,\n",
              "       [0., 0., 0., ..., 0., 0., 0.],\n",
              "       [0., 0., 0., ..., 0., 0., 0.],\n",
              "       [0., 0., 0., ..., 0., 0., 0.]], dtype=float32)"
            ]
          },
          "metadata": {},
          "execution_count": 34
        }
      ]
    },
    {
      "cell_type": "code",
      "metadata": {
        "id": "1my2hWLcUAxd"
      },
      "source": [
        "model = keras.Sequential(\n",
        "  [\n",
        "   keras.Input(shape = input_shape), # input_shape = (28,28,1)\n",
        "   layers.Conv2D(32,kernel_size = (3,3),activation='relu'),\n",
        "   layers.MaxPool2D(pool_size=(2,2)),\n",
        "   layers.Conv2D(64,kernel_size=(3,3)),\n",
        "   layers.MaxPooling2D(pool_size=(2,2)),\n",
        "   layers.Flatten(),\n",
        "   layers.Dropout(0.5), #removes random neruons to reduce overfitting\n",
        "   layers.Dense(num_classes,activation='softmax')  # output layer\n",
        "  ]\n",
        "\n",
        ")"
      ],
      "execution_count": null,
      "outputs": []
    },
    {
      "cell_type": "code",
      "metadata": {
        "colab": {
          "base_uri": "https://localhost:8080/"
        },
        "id": "7wBJr_aqVh8H",
        "outputId": "d97c837d-e72d-4d3f-f41b-2bc4efb6aadd"
      },
      "source": [
        "model.summary()"
      ],
      "execution_count": null,
      "outputs": [
        {
          "output_type": "stream",
          "text": [
            "Model: \"sequential\"\n",
            "_________________________________________________________________\n",
            "Layer (type)                 Output Shape              Param #   \n",
            "=================================================================\n",
            "conv2d (Conv2D)              (None, 26, 26, 32)        320       \n",
            "_________________________________________________________________\n",
            "max_pooling2d (MaxPooling2D) (None, 13, 13, 32)        0         \n",
            "_________________________________________________________________\n",
            "conv2d_1 (Conv2D)            (None, 11, 11, 64)        18496     \n",
            "_________________________________________________________________\n",
            "max_pooling2d_1 (MaxPooling2 (None, 5, 5, 64)          0         \n",
            "_________________________________________________________________\n",
            "flatten (Flatten)            (None, 1600)              0         \n",
            "_________________________________________________________________\n",
            "dropout (Dropout)            (None, 1600)              0         \n",
            "_________________________________________________________________\n",
            "dense (Dense)                (None, 10)                16010     \n",
            "=================================================================\n",
            "Total params: 34,826\n",
            "Trainable params: 34,826\n",
            "Non-trainable params: 0\n",
            "_________________________________________________________________\n"
          ],
          "name": "stdout"
        }
      ]
    },
    {
      "cell_type": "code",
      "metadata": {
        "colab": {
          "base_uri": "https://localhost:8080/"
        },
        "id": "GHDkDozyV3B1",
        "outputId": "f1a1de71-93ad-433c-bab1-277b52da0f37"
      },
      "source": [
        "# cross-Entropy\n",
        "batch_size = 128  # multiples of 2 \n",
        "epochs=20\n",
        "\n",
        "model.compile(loss='categorical_crossentropy',\n",
        "    optimizer='adam',\n",
        "    metrics = ['accuracy'])\n",
        "\n",
        "history = model.fit(X_train,y_train,batch_size=batch_size,epochs = epochs,validation_split=0.1)"
      ],
      "execution_count": null,
      "outputs": [
        {
          "output_type": "stream",
          "text": [
            "Epoch 1/20\n",
            "422/422 [==============================] - 33s 10ms/step - loss: 0.3605 - accuracy: 0.8935 - val_loss: 0.0957 - val_accuracy: 0.9752\n",
            "Epoch 2/20\n",
            "422/422 [==============================] - 4s 9ms/step - loss: 0.1180 - accuracy: 0.9644 - val_loss: 0.0751 - val_accuracy: 0.9800\n",
            "Epoch 3/20\n",
            "422/422 [==============================] - 4s 8ms/step - loss: 0.0874 - accuracy: 0.9726 - val_loss: 0.0541 - val_accuracy: 0.9855\n",
            "Epoch 4/20\n",
            "422/422 [==============================] - 4s 8ms/step - loss: 0.0767 - accuracy: 0.9762 - val_loss: 0.0502 - val_accuracy: 0.9865\n",
            "Epoch 5/20\n",
            "422/422 [==============================] - 4s 8ms/step - loss: 0.0678 - accuracy: 0.9793 - val_loss: 0.0501 - val_accuracy: 0.9860\n",
            "Epoch 6/20\n",
            "422/422 [==============================] - 4s 8ms/step - loss: 0.0624 - accuracy: 0.9803 - val_loss: 0.0441 - val_accuracy: 0.9882\n",
            "Epoch 7/20\n",
            "422/422 [==============================] - 4s 9ms/step - loss: 0.0564 - accuracy: 0.9826 - val_loss: 0.0433 - val_accuracy: 0.9883\n",
            "Epoch 8/20\n",
            "422/422 [==============================] - 4s 8ms/step - loss: 0.0555 - accuracy: 0.9821 - val_loss: 0.0431 - val_accuracy: 0.9882\n",
            "Epoch 9/20\n",
            "422/422 [==============================] - 4s 9ms/step - loss: 0.0486 - accuracy: 0.9842 - val_loss: 0.0416 - val_accuracy: 0.9890\n",
            "Epoch 10/20\n",
            "422/422 [==============================] - 4s 8ms/step - loss: 0.0491 - accuracy: 0.9847 - val_loss: 0.0388 - val_accuracy: 0.9892\n",
            "Epoch 11/20\n",
            "422/422 [==============================] - 4s 8ms/step - loss: 0.0449 - accuracy: 0.9862 - val_loss: 0.0452 - val_accuracy: 0.9882\n",
            "Epoch 12/20\n",
            "422/422 [==============================] - 3s 8ms/step - loss: 0.0435 - accuracy: 0.9863 - val_loss: 0.0415 - val_accuracy: 0.9883\n",
            "Epoch 13/20\n",
            "422/422 [==============================] - 4s 9ms/step - loss: 0.0436 - accuracy: 0.9863 - val_loss: 0.0390 - val_accuracy: 0.9892\n",
            "Epoch 14/20\n",
            "422/422 [==============================] - 4s 9ms/step - loss: 0.0416 - accuracy: 0.9865 - val_loss: 0.0433 - val_accuracy: 0.9875\n",
            "Epoch 15/20\n",
            "422/422 [==============================] - 4s 8ms/step - loss: 0.0403 - accuracy: 0.9867 - val_loss: 0.0381 - val_accuracy: 0.9898\n",
            "Epoch 16/20\n",
            "422/422 [==============================] - 4s 8ms/step - loss: 0.0383 - accuracy: 0.9876 - val_loss: 0.0417 - val_accuracy: 0.9895\n",
            "Epoch 17/20\n",
            "422/422 [==============================] - 4s 8ms/step - loss: 0.0372 - accuracy: 0.9880 - val_loss: 0.0387 - val_accuracy: 0.9895\n",
            "Epoch 18/20\n",
            "422/422 [==============================] - 3s 8ms/step - loss: 0.0365 - accuracy: 0.9879 - val_loss: 0.0375 - val_accuracy: 0.9892\n",
            "Epoch 19/20\n",
            "422/422 [==============================] - 4s 9ms/step - loss: 0.0368 - accuracy: 0.9881 - val_loss: 0.0378 - val_accuracy: 0.9902\n",
            "Epoch 20/20\n",
            "422/422 [==============================] - 4s 8ms/step - loss: 0.0348 - accuracy: 0.9887 - val_loss: 0.0374 - val_accuracy: 0.9900\n"
          ],
          "name": "stdout"
        }
      ]
    },
    {
      "cell_type": "code",
      "metadata": {
        "colab": {
          "base_uri": "https://localhost:8080/",
          "height": 282
        },
        "id": "OxIjknWBZYKO",
        "outputId": "3e56a222-073b-4f10-f862-756d4715314e"
      },
      "source": [
        "plt.plot(history.history['loss'])\n",
        "plt.plot(history.history['val_loss'])"
      ],
      "execution_count": null,
      "outputs": [
        {
          "output_type": "execute_result",
          "data": {
            "text/plain": [
              "[<matplotlib.lines.Line2D at 0x7f7686cc0290>]"
            ]
          },
          "metadata": {},
          "execution_count": 42
        },
        {
          "output_type": "display_data",
          "data": {
            "image/png": "[encoded data removed]",
            "text/plain": [
              "<Figure size 432x288 with 1 Axes>"
            ]
          },
          "metadata": {
            "needs_background": "light"
          }
        }
      ]
    },
    {
      "cell_type": "code",
      "metadata": {
        "colab": {
          "base_uri": "https://localhost:8080/",
          "height": 282
        },
        "id": "LrRXFAC4ckzP",
        "outputId": "a81196b1-4eea-4d44-c93f-9e00e46c733c"
      },
      "source": [
        "plt.plot(history.history['accuracy'])\n",
        "plt.plot(history.history['val_accuracy'])"
      ],
      "execution_count": null,
      "outputs": [
        {
          "output_type": "execute_result",
          "data": {
            "text/plain": [
              "[<matplotlib.lines.Line2D at 0x7f763e106550>]"
            ]
          },
          "metadata": {},
          "execution_count": 43
        },
        {
          "output_type": "display_data",
          "data": {
            "image/png": "[encoded data removed]",
            "text/plain": [
              "<Figure size 432x288 with 1 Axes>"
            ]
          },
          "metadata": {
            "needs_background": "light"
          }
        }
      ]
    },
    {
      "cell_type": "code",
      "metadata": {
        "colab": {
          "base_uri": "https://localhost:8080/",
          "height": 282
        },
        "id": "q-Q9oGbScpwD",
        "outputId": "03310b31-ed89-472c-fba8-dce04fad91a7"
      },
      "source": [
        "plt.imshow(X_test[1].reshape(28,28))"
      ],
      "execution_count": null,
      "outputs": [
        {
          "output_type": "execute_result",
          "data": {
            "text/plain": [
              "<matplotlib.image.AxesImage at 0x7f763e014210>"
            ]
          },
          "metadata": {},
          "execution_count": 49
        },
        {
          "output_type": "display_data",
          "data": {
            "image/png": "[encoded data removed]",
            "text/plain": [
              "<Figure size 432x288 with 1 Axes>"
            ]
          },
          "metadata": {
            "needs_background": "light"
          }
        }
      ]
    },
    {
      "cell_type": "code",
      "metadata": {
        "colab": {
          "base_uri": "https://localhost:8080/"
        },
        "id": "_7tCw2ukc4Hx",
        "outputId": "01c66d41-ddc9-4769-e9ec-8915025b922d"
      },
      "source": [
        "X_test[1].shape"
      ],
      "execution_count": null,
      "outputs": [
        {
          "output_type": "execute_result",
          "data": {
            "text/plain": [
              "(28, 28, 1)"
            ]
          },
          "metadata": {},
          "execution_count": 51
        }
      ]
    },
    {
      "cell_type": "code",
      "metadata": {
        "id": "NRzyBjl9fxSH"
      },
      "source": [
        ""
      ],
      "execution_count": null,
      "outputs": []
    },
    {
      "cell_type": "code",
      "metadata": {
        "colab": {
          "base_uri": "https://localhost:8080/"
        },
        "id": "f03utXsEdQSY",
        "outputId": "5cb08259-ebdd-4e7b-f692-8927f0d2fdd8"
      },
      "source": [
        "# model prediction takes in (num_images,height,width,channel)\n",
        "# perform prediction\n",
        "model.predict(X_test[1].reshape(1,28,28,1)).argmax() # get index of highest value"
      ],
      "execution_count": null,
      "outputs": [
        {
          "output_type": "execute_result",
          "data": {
            "text/plain": [
              "array([[1.3087860e-06, 9.2648708e-07, 9.9999714e-01, 2.0662029e-08,\n",
              "        4.1053194e-12, 8.9348485e-12, 6.4066552e-07, 3.1835342e-12,\n",
              "        5.5986813e-08, 4.5809963e-11]], dtype=float32)"
            ]
          },
          "metadata": {},
          "execution_count": 53
        }
      ]
    },
    {
      "cell_type": "code",
      "metadata": {
        "id": "U448tUTyfdqY"
      },
      "source": [
        "import cv2 as cv\n",
        "from skimage import io\n",
        "\n",
        "num6='/content/6.png'"
      ],
      "execution_count": null,
      "outputs": []
    },
    {
      "cell_type": "code",
      "metadata": {
        "colab": {
          "base_uri": "https://localhost:8080/",
          "height": 282
        },
        "id": "uWU4uRSSgeQI",
        "outputId": "0a3e0e97-6e9d-47ca-f502-032e6b1ddc0e"
      },
      "source": [
        "plt.imshow(io.imread(num6))"
      ],
      "execution_count": null,
      "outputs": [
        {
          "output_type": "execute_result",
          "data": {
            "text/plain": [
              "<matplotlib.image.AxesImage at 0x7f75d3c46b10>"
            ]
          },
          "metadata": {},
          "execution_count": 74
        },
        {
          "output_type": "display_data",
          "data": {
            "image/png": "[encoded data removed]",
            "text/plain": [
              "<Figure size 432x288 with 1 Axes>"
            ]
          },
          "metadata": {
            "needs_background": "light"
          }
        }
      ]
    },
    {
      "cell_type": "code",
      "metadata": {
        "id": "0ts1MaCxf0ld"
      },
      "source": [
        "six = io.imread(num6,as_gray=True)"
      ],
      "execution_count": null,
      "outputs": []
    },
    {
      "cell_type": "code",
      "metadata": {
        "colab": {
          "base_uri": "https://localhost:8080/"
        },
        "id": "XxQV-66vf6CE",
        "outputId": "585ca414-76a1-43a1-f729-b63ba48091c9"
      },
      "source": [
        "model.predict(six.reshape(1,28,28,1)).argmax()"
      ],
      "execution_count": null,
      "outputs": [
        {
          "output_type": "execute_result",
          "data": {
            "text/plain": [
              "5"
            ]
          },
          "metadata": {},
          "execution_count": 77
        }
      ]
    },
    {
      "cell_type": "code",
      "metadata": {
        "id": "PtFtSbkCgEK9"
      },
      "source": [
        ""
      ],
      "execution_count": null,
      "outputs": []
    }
  ]
}