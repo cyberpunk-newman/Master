{
 "cells": [
  {
   "cell_type": "code",
   "execution_count": 8,
   "id": "acceptable-confusion",
   "metadata": {},
   "outputs": [
    {
     "name": "stdout",
     "output_type": "stream",
     "text": [
      "How tall are you? (m) 1.8\n",
      "How much do you weigh? (kg)70\n"
     ]
    },
    {
     "data": {
      "text/plain": [
       "'Your BMI is 21.60.'"
      ]
     },
     "execution_count": 8,
     "metadata": {},
     "output_type": "execute_result"
    }
   ],
   "source": [
    "# The Math library is used to do powers\n",
    "import math\n",
    "\n",
    "# bmi_calculator(height,weight) is used calcualte the bmi\n",
    "# Note that two para convert to float and bmi only take 2 digits of precision.\n",
    "def bmi_calculator(height,weight):\n",
    "    height = float(height)\n",
    "    weight = float(weight)\n",
    "    BMI = weight/math.pow(height,2)\n",
    "    return(\"Your BMI is \"+str(format(BMI, '.2f'))+\".\")\n",
    "\n",
    "# interaction \n",
    "h = input(\"How tall are you? (m) \")\n",
    "w = input(\"How much do you weigh? (kg)\")\n",
    "bmi_calculator(h,w)\n",
    "    "
   ]
  },
  {
   "cell_type": "code",
   "execution_count": null,
   "id": "unable-joshua",
   "metadata": {},
   "outputs": [],
   "source": []
  }
 ],
 "metadata": {
  "kernelspec": {
   "display_name": "Python 3",
   "language": "python",
   "name": "python3"
  },
  "language_info": {
   "codemirror_mode": {
    "name": "ipython",
    "version": 3
   },
   "file_extension": ".py",
   "mimetype": "text/x-python",
   "name": "python",
   "nbconvert_exporter": "python",
   "pygments_lexer": "ipython3",
   "version": "3.8.8"
  }
 },
 "nbformat": 4,
 "nbformat_minor": 5
}
